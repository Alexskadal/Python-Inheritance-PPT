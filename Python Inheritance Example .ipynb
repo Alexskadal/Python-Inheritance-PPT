{
 "cells": [
  {
   "cell_type": "code",
   "execution_count": 6,
   "id": "5d79dae1",
   "metadata": {},
   "outputs": [
    {
     "name": "stdout",
     "output_type": "stream",
     "text": [
      "25\n"
     ]
    }
   ],
   "source": [
    "class Shape:\n",
    "    def area(self):\n",
    "        pass  # placeholder method\n",
    "        \n",
    "class Square(Shape):\n",
    "    def __init__(self, side):\n",
    "        self.side = side\n",
    "        \n",
    "    def area(self):\n",
    "        return self.side ** 2\n",
    "\n",
    "my_square = Square(5)\n",
    "print(my_square.area()) "
   ]
  },
  {
   "cell_type": "code",
   "execution_count": null,
   "id": "cb7ac4cc",
   "metadata": {},
   "outputs": [],
   "source": []
  }
 ],
 "metadata": {
  "kernelspec": {
   "display_name": "Python 3",
   "language": "python",
   "name": "python3"
  },
  "language_info": {
   "codemirror_mode": {
    "name": "ipython",
    "version": 3
   },
   "file_extension": ".py",
   "mimetype": "text/x-python",
   "name": "python",
   "nbconvert_exporter": "python",
   "pygments_lexer": "ipython3",
   "version": "3.8.8"
  }
 },
 "nbformat": 4,
 "nbformat_minor": 5
}
